{
 "cells": [
  {
   "cell_type": "code",
   "execution_count": 7,
   "metadata": {},
   "outputs": [],
   "source": [
    "from  sqlalchemy import  *\n",
    "import pandas as pd\n",
    "from sqlalchemy.ext.automap import automap_base\n",
    "from sqlalchemy.orm import Session\n",
    "from sqlalchemy.orm import scoped_session, sessionmaker\n",
    "from sqlalchemy import create_engine, func\n",
    "import matplotlib.pyplot as plt"
   ]
  },
  {
   "cell_type": "code",
   "execution_count": 8,
   "metadata": {},
   "outputs": [],
   "source": [
    "engine = create_engine('sqlite:///BEER.sqlite.db')\n",
    "\n",
    "Base = automap_base()\n",
    "Base.prepare(engine, reflect = True)"
   ]
  },
  {
   "cell_type": "code",
   "execution_count": 9,
   "metadata": {},
   "outputs": [],
   "source": [
    "conn = engine.connect()\n",
    "df = pd.read_sql('SELECT * FROM annual_production;',conn)"
   ]
  },
  {
   "cell_type": "code",
   "execution_count": 10,
   "metadata": {},
   "outputs": [
    {
     "name": "stdout",
     "output_type": "stream",
     "text": [
      "<class 'pandas.core.frame.DataFrame'>\n",
      "RangeIndex: 122 entries, 0 to 121\n",
      "Data columns (total 7 columns):\n",
      "index                           122 non-null int64\n",
      "Year                            122 non-null float64\n",
      "Barrels (31 gallons) (2)        122 non-null object\n",
      "Number of Breweries (1)         122 non-null object\n",
      "Total Barrels (3)               122 non-null object\n",
      "Taxable Removals (4)            122 non-null object\n",
      "Total Shipped (Exported) (6)    122 non-null object\n",
      "dtypes: float64(1), int64(1), object(5)\n",
      "memory usage: 6.8+ KB\n"
     ]
    }
   ],
   "source": [
    "df.info()"
   ]
  },
  {
   "cell_type": "code",
   "execution_count": 11,
   "metadata": {},
   "outputs": [
    {
     "data": {
      "text/html": [
       "<div>\n",
       "<style scoped>\n",
       "    .dataframe tbody tr th:only-of-type {\n",
       "        vertical-align: middle;\n",
       "    }\n",
       "\n",
       "    .dataframe tbody tr th {\n",
       "        vertical-align: top;\n",
       "    }\n",
       "\n",
       "    .dataframe thead th {\n",
       "        text-align: right;\n",
       "    }\n",
       "</style>\n",
       "<table border=\"1\" class=\"dataframe\">\n",
       "  <thead>\n",
       "    <tr style=\"text-align: right;\">\n",
       "      <th></th>\n",
       "      <th>index</th>\n",
       "      <th>Year</th>\n",
       "      <th>Barrels (31 gallons) (2)</th>\n",
       "      <th>Number of Breweries (1)</th>\n",
       "      <th>Total Barrels (3)</th>\n",
       "      <th>Taxable Removals (4)</th>\n",
       "      <th>Total Shipped (Exported) (6)</th>\n",
       "    </tr>\n",
       "  </thead>\n",
       "  <tbody>\n",
       "    <tr>\n",
       "      <th>0</th>\n",
       "      <td>0</td>\n",
       "      <td>2007.0</td>\n",
       "      <td>6,000,001 Barrels and Over</td>\n",
       "      <td>17</td>\n",
       "      <td>167,562,085.40</td>\n",
       "      <td>153,687,098.69</td>\n",
       "      <td>2,410,884.99</td>\n",
       "    </tr>\n",
       "    <tr>\n",
       "      <th>1</th>\n",
       "      <td>1</td>\n",
       "      <td>2007.0</td>\n",
       "      <td>1,000,001 to 6,000,000 Barrels (5)</td>\n",
       "      <td>3</td>\n",
       "      <td>13,003,841.85</td>\n",
       "      <td>12,705,937.93</td>\n",
       "      <td>1,110,458.58</td>\n",
       "    </tr>\n",
       "    <tr>\n",
       "      <th>2</th>\n",
       "      <td>2</td>\n",
       "      <td>2007.0</td>\n",
       "      <td>500,001 to 1,000,000 Barrels</td>\n",
       "      <td>10</td>\n",
       "      <td>6,641,984.43</td>\n",
       "      <td>6,361,689.70</td>\n",
       "      <td>107,036.38</td>\n",
       "    </tr>\n",
       "    <tr>\n",
       "      <th>3</th>\n",
       "      <td>3</td>\n",
       "      <td>2007.0</td>\n",
       "      <td>100,001 to 500,000 Barrels</td>\n",
       "      <td>24</td>\n",
       "      <td>4,972,430.67</td>\n",
       "      <td>3,920,412.25</td>\n",
       "      <td>133,170.81</td>\n",
       "    </tr>\n",
       "    <tr>\n",
       "      <th>4</th>\n",
       "      <td>4</td>\n",
       "      <td>2007.0</td>\n",
       "      <td>60,001 to 100,000 Barrels</td>\n",
       "      <td>20</td>\n",
       "      <td>1,513,844.02</td>\n",
       "      <td>1,229,995.99</td>\n",
       "      <td>2,777.13</td>\n",
       "    </tr>\n",
       "  </tbody>\n",
       "</table>\n",
       "</div>"
      ],
      "text/plain": [
       "   index    Year            Barrels (31 gallons) (2) Number of Breweries (1)  \\\n",
       "0      0  2007.0          6,000,001 Barrels and Over                      17   \n",
       "1      1  2007.0  1,000,001 to 6,000,000 Barrels (5)                       3   \n",
       "2      2  2007.0        500,001 to 1,000,000 Barrels                      10   \n",
       "3      3  2007.0          100,001 to 500,000 Barrels                      24   \n",
       "4      4  2007.0           60,001 to 100,000 Barrels                      20   \n",
       "\n",
       "  Total Barrels (3) Taxable Removals (4) Total Shipped (Exported) (6)  \n",
       "0    167,562,085.40       153,687,098.69                 2,410,884.99  \n",
       "1     13,003,841.85        12,705,937.93                 1,110,458.58  \n",
       "2      6,641,984.43         6,361,689.70                   107,036.38  \n",
       "3      4,972,430.67         3,920,412.25                   133,170.81  \n",
       "4      1,513,844.02         1,229,995.99                     2,777.13  "
      ]
     },
     "execution_count": 11,
     "metadata": {},
     "output_type": "execute_result"
    }
   ],
   "source": [
    "df.head()"
   ]
  },
  {
   "cell_type": "code",
   "execution_count": 18,
   "metadata": {},
   "outputs": [
    {
     "data": {
      "image/png": "[encoded data removed]",
      "text/plain": [
       "<Figure size 432x288 with 1 Axes>"
      ]
     },
     "metadata": {
      "needs_background": "light"
     },
     "output_type": "display_data"
    }
   ],
   "source": [
    "x = df[df.Year == 2007.0].Year\n",
    "y = df[df.Year ==2007.0]['Number of Breweries (1)']\n",
    "for barrel in df[df.Year ==2007.0]['Total Barrels (3)']:\n",
    "    plt.plot(x,y) \n"
   ]
  },
  {
   "cell_type": "code",
   "execution_count": null,
   "metadata": {},
   "outputs": [],
   "source": []
  },
  {
   "cell_type": "code",
   "execution_count": null,
   "metadata": {},
   "outputs": [],
   "source": []
  }
 ],
 "metadata": {
  "kernelspec": {
   "display_name": "Python 3",
   "language": "python",
   "name": "python3"
  },
  "language_info": {
   "codemirror_mode": {
    "name": "ipython",
    "version": 3
   },
   "file_extension": ".py",
   "mimetype": "text/x-python",
   "name": "python",
   "nbconvert_exporter": "python",
   "pygments_lexer": "ipython3",
   "version": "3.7.1"
  }
 },
 "nbformat": 4,
 "nbformat_minor": 2
}
