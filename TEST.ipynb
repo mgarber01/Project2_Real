{
 "cells": [
  {
   "cell_type": "code",
   "execution_count": 8,
   "metadata": {},
   "outputs": [],
   "source": [
    "from  sqlalchemy import  *\n",
    "import pandas as pd\n",
    "from sqlalchemy.ext.automap import automap_base\n",
    "from sqlalchemy.orm import Session\n",
    "from sqlalchemy.orm import scoped_session, sessionmaker\n",
    "from sqlalchemy import create_engine, func"
   ]
  },
  {
   "cell_type": "code",
   "execution_count": 9,
   "metadata": {},
   "outputs": [],
   "source": [
    "engine = create_engine('sqlite:///BEER.sqlite.db')\n",
    "\n",
    "Base = automap_base()\n",
    "Base.prepare(engine, reflect = True)"
   ]
  },
  {
   "cell_type": "code",
   "execution_count": 10,
   "metadata": {},
   "outputs": [],
   "source": [
    "conn = engine.connect()\n",
    "df = pd.read_sql('SELECT * FROM annual_production;',conn)"
   ]
  },
  {
   "cell_type": "code",
   "execution_count": 11,
   "metadata": {},
   "outputs": [
    {
     "name": "stdout",
     "output_type": "stream",
     "text": [
      "<class 'pandas.core.frame.DataFrame'>\n",
      "RangeIndex: 122 entries, 0 to 121\n",
      "Data columns (total 7 columns):\n",
      "index                           122 non-null int64\n",
      "Year                            122 non-null float64\n",
      "Barrels (31 gallons) (2)        122 non-null object\n",
      "Number of Breweries (1)         122 non-null object\n",
      "Total Barrels (3)               122 non-null object\n",
      "Taxable Removals (4)            122 non-null object\n",
      "Total Shipped (Exported) (6)    122 non-null object\n",
      "dtypes: float64(1), int64(1), object(5)\n",
      "memory usage: 6.8+ KB\n"
     ]
    }
   ],
   "source": [
    "df.info()"
   ]
  },
  {
   "cell_type": "code",
   "execution_count": 12,
   "metadata": {},
   "outputs": [],
   "source": [
    "engine.echo = True"
   ]
  },
  {
   "cell_type": "code",
   "execution_count": 13,
   "metadata": {},
   "outputs": [],
   "source": [
    "metadata = MetaData(engine)"
   ]
  },
  {
   "cell_type": "code",
   "execution_count": 14,
   "metadata": {},
   "outputs": [
    {
     "name": "stdout",
     "output_type": "stream",
     "text": [
      "2019-03-30 07:17:14,709 INFO sqlalchemy.engine.base.Engine SELECT name FROM sqlite_master WHERE type='table' ORDER BY name\n",
      "2019-03-30 07:17:14,711 INFO sqlalchemy.engine.base.Engine ()\n",
      "2019-03-30 07:17:14,713 INFO sqlalchemy.engine.base.Engine PRAGMA table_info(\"annual_production\")\n",
      "2019-03-30 07:17:14,714 INFO sqlalchemy.engine.base.Engine ()\n",
      "2019-03-30 07:17:14,717 INFO sqlalchemy.engine.base.Engine SELECT sql FROM  (SELECT * FROM sqlite_master UNION ALL   SELECT * FROM sqlite_temp_master) WHERE name = 'annual_production' AND type = 'table'\n",
      "2019-03-30 07:17:14,718 INFO sqlalchemy.engine.base.Engine ()\n",
      "2019-03-30 07:17:14,720 INFO sqlalchemy.engine.base.Engine PRAGMA foreign_key_list(\"annual_production\")\n",
      "2019-03-30 07:17:14,721 INFO sqlalchemy.engine.base.Engine ()\n",
      "2019-03-30 07:17:14,723 INFO sqlalchemy.engine.base.Engine SELECT sql FROM  (SELECT * FROM sqlite_master UNION ALL   SELECT * FROM sqlite_temp_master) WHERE name = 'annual_production' AND type = 'table'\n",
      "2019-03-30 07:17:14,724 INFO sqlalchemy.engine.base.Engine ()\n",
      "2019-03-30 07:17:14,726 INFO sqlalchemy.engine.base.Engine PRAGMA index_list(\"annual_production\")\n",
      "2019-03-30 07:17:14,727 INFO sqlalchemy.engine.base.Engine ()\n",
      "2019-03-30 07:17:14,730 INFO sqlalchemy.engine.base.Engine PRAGMA index_info(\"ix_annual_production_index\")\n",
      "2019-03-30 07:17:14,731 INFO sqlalchemy.engine.base.Engine ()\n",
      "2019-03-30 07:17:14,733 INFO sqlalchemy.engine.base.Engine PRAGMA index_list(\"annual_production\")\n",
      "2019-03-30 07:17:14,736 INFO sqlalchemy.engine.base.Engine ()\n",
      "2019-03-30 07:17:14,738 INFO sqlalchemy.engine.base.Engine PRAGMA index_info(\"ix_annual_production_index\")\n",
      "2019-03-30 07:17:14,739 INFO sqlalchemy.engine.base.Engine ()\n",
      "2019-03-30 07:17:14,742 INFO sqlalchemy.engine.base.Engine SELECT sql FROM  (SELECT * FROM sqlite_master UNION ALL   SELECT * FROM sqlite_temp_master) WHERE name = 'annual_production' AND type = 'table'\n",
      "2019-03-30 07:17:14,743 INFO sqlalchemy.engine.base.Engine ()\n"
     ]
    }
   ],
   "source": [
    "metadata.reflect()"
   ]
  },
  {
   "cell_type": "code",
   "execution_count": 15,
   "metadata": {},
   "outputs": [],
   "source": [
    "session = Session(engine)"
   ]
  },
  {
   "cell_type": "code",
   "execution_count": 16,
   "metadata": {},
   "outputs": [],
   "source": [
    "\n",
    "inspector = inspect(engine)\n",
    "\n"
   ]
  },
  {
   "cell_type": "code",
   "execution_count": 17,
   "metadata": {},
   "outputs": [
    {
     "name": "stdout",
     "output_type": "stream",
     "text": [
      "2019-03-30 07:17:16,884 INFO sqlalchemy.engine.base.Engine SELECT name FROM sqlite_master WHERE type='table' ORDER BY name\n",
      "2019-03-30 07:17:16,885 INFO sqlalchemy.engine.base.Engine ()\n",
      "2019-03-30 07:17:16,888 INFO sqlalchemy.engine.base.Engine PRAGMA table_info(\"annual_production\")\n",
      "2019-03-30 07:17:16,889 INFO sqlalchemy.engine.base.Engine ()\n",
      "Column: index\n",
      "Column: Year\n",
      "Column: Barrels (31 gallons) (2)\n",
      "Column: Number of Breweries (1)\n",
      "Column: Total Barrels (3)\n",
      "Column: Taxable Removals (4)\n",
      "Column: Total Shipped (Exported) (6)\n"
     ]
    }
   ],
   "source": [
    "for table_name in inspector.get_table_names():\n",
    "   for column in inspector.get_columns(table_name):\n",
    "       print(\"Column: %s\" % column['name'])"
   ]
  },
  {
   "cell_type": "code",
   "execution_count": 69,
   "metadata": {
    "collapsed": true
   },
   "outputs": [
    {
     "data": {
      "text/plain": [
       "[{'name': 'index',\n",
       "  'type': INTEGER(),\n",
       "  'nullable': True,\n",
       "  'default': None,\n",
       "  'autoincrement': 'auto',\n",
       "  'primary_key': 0},\n",
       " {'name': 'Year',\n",
       "  'type': REAL(),\n",
       "  'nullable': True,\n",
       "  'default': None,\n",
       "  'autoincrement': 'auto',\n",
       "  'primary_key': 0},\n",
       " {'name': 'Barrels (31 gallons) (2)',\n",
       "  'type': TEXT(),\n",
       "  'nullable': True,\n",
       "  'default': None,\n",
       "  'autoincrement': 'auto',\n",
       "  'primary_key': 0},\n",
       " {'name': 'Number of Breweries (1)',\n",
       "  'type': TEXT(),\n",
       "  'nullable': True,\n",
       "  'default': None,\n",
       "  'autoincrement': 'auto',\n",
       "  'primary_key': 0},\n",
       " {'name': 'Total Barrels (3)',\n",
       "  'type': TEXT(),\n",
       "  'nullable': True,\n",
       "  'default': None,\n",
       "  'autoincrement': 'auto',\n",
       "  'primary_key': 0},\n",
       " {'name': 'Taxable Removals (4)',\n",
       "  'type': TEXT(),\n",
       "  'nullable': True,\n",
       "  'default': None,\n",
       "  'autoincrement': 'auto',\n",
       "  'primary_key': 0},\n",
       " {'name': 'Total Shipped (Exported) (6)',\n",
       "  'type': TEXT(),\n",
       "  'nullable': True,\n",
       "  'default': None,\n",
       "  'autoincrement': 'auto',\n",
       "  'primary_key': 0}]"
      ]
     },
     "execution_count": 69,
     "metadata": {},
     "output_type": "execute_result"
    }
   ],
   "source": [
    "inspector.('annual_production')"
   ]
  },
  {
   "cell_type": "code",
   "execution_count": 18,
   "metadata": {},
   "outputs": [
    {
     "data": {
      "text/plain": [
       "[]"
      ]
     },
     "execution_count": 18,
     "metadata": {},
     "output_type": "execute_result"
    }
   ],
   "source": [
    "Base.classes.values()"
   ]
  },
  {
   "cell_type": "code",
   "execution_count": 20,
   "metadata": {},
   "outputs": [
    {
     "ename": "NameError",
     "evalue": "name 'annual_production' is not defined",
     "output_type": "error",
     "traceback": [
      "\u001b[1;31m---------------------------------------------------------------------------\u001b[0m",
      "\u001b[1;31mNameError\u001b[0m                                 Traceback (most recent call last)",
      "\u001b[1;32m<ipython-input-20-037c9e789856>\u001b[0m in \u001b[0;36m<module>\u001b[1;34m\u001b[0m\n\u001b[1;32m----> 1\u001b[1;33m \u001b[0mresults\u001b[0m \u001b[1;33m=\u001b[0m \u001b[0msession\u001b[0m\u001b[1;33m.\u001b[0m\u001b[0mquery\u001b[0m\u001b[1;33m(\u001b[0m\u001b[0mannual_production\u001b[0m\u001b[1;33m)\u001b[0m\u001b[1;33m.\u001b[0m\u001b[0mall\u001b[0m\u001b[1;33m(\u001b[0m\u001b[1;33m)\u001b[0m\u001b[1;33m\u001b[0m\u001b[1;33m\u001b[0m\u001b[0m\n\u001b[0m",
      "\u001b[1;31mNameError\u001b[0m: name 'annual_production' is not defined"
     ]
    }
   ],
   "source": [
    "results = session.query(annual_production).all()"
   ]
  },
  {
   "cell_type": "code",
   "execution_count": null,
   "metadata": {},
   "outputs": [],
   "source": []
  }
 ],
 "metadata": {
  "kernelspec": {
   "display_name": "Python 3",
   "language": "python",
   "name": "python3"
  },
  "language_info": {
   "codemirror_mode": {
    "name": "ipython",
    "version": 3
   },
   "file_extension": ".py",
   "mimetype": "text/x-python",
   "name": "python",
   "nbconvert_exporter": "python",
   "pygments_lexer": "ipython3",
   "version": "3.7.1"
  }
 },
 "nbformat": 4,
 "nbformat_minor": 2
}
